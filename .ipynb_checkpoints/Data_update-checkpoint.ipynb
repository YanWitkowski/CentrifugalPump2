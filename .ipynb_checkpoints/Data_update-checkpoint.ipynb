{
 "cells": [
  {
   "cell_type": "code",
   "execution_count": 6,
   "id": "a9daecda-20a0-483f-98a8-90e2376cd9c7",
   "metadata": {},
   "outputs": [
    {
     "name": "stdout",
     "output_type": "stream",
     "text": [
      "Запуск генерации данных...\n",
      "Будет сгенерировано 996 сэмплов (по 166 на каждый уровень шума).\n",
      "Уровни шума: [0.0, 0.01, 0.05, 0.1, 0.2, 0.3]\n",
      "Генерация данных...\n"
     ]
    },
    {
     "name": "stderr",
     "output_type": "stream",
     "text": [
      "\n",
      "\u001b[Aерация данных:   0%|                                 | 0/996 [00:00<?, ?it/s]"
     ]
    },
    {
     "name": "stdout",
     "output_type": "stream",
     "text": [
      "  -> Генерация для noise_level=0.0 (166 сэмплов)\n"
     ]
    },
    {
     "name": "stderr",
     "output_type": "stream",
     "text": [
      "\n",
      "\u001b[Aерация данных:  17%|███▊                   | 166/996 [02:46<13:50,  1.00s/it]"
     ]
    },
    {
     "name": "stdout",
     "output_type": "stream",
     "text": [
      "  -> Генерация для noise_level=0.01 (166 сэмплов)\n"
     ]
    },
    {
     "name": "stderr",
     "output_type": "stream",
     "text": [
      "\n",
      "\u001b[Aерация данных:  33%|███████▋               | 332/996 [06:39<13:42,  1.24s/it]"
     ]
    },
    {
     "name": "stdout",
     "output_type": "stream",
     "text": [
      "  -> Генерация для noise_level=0.05 (166 сэмплов)\n"
     ]
    },
    {
     "name": "stderr",
     "output_type": "stream",
     "text": [
      "\n",
      "\u001b[Aерация данных:  50%|███████████▌           | 498/996 [15:42<17:59,  2.17s/it]"
     ]
    },
    {
     "name": "stdout",
     "output_type": "stream",
     "text": [
      "  -> Генерация для noise_level=0.1 (166 сэмплов)\n"
     ]
    },
    {
     "name": "stderr",
     "output_type": "stream",
     "text": [
      "\n",
      "\u001b[Aерация данных:  67%|███████████████▎       | 664/996 [31:27<19:41,  3.56s/it]"
     ]
    },
    {
     "name": "stdout",
     "output_type": "stream",
     "text": [
      "  -> Генерация для noise_level=0.2 (166 сэмплов)\n"
     ]
    },
    {
     "name": "stderr",
     "output_type": "stream",
     "text": [
      "\n",
      "\u001b[Aерация данных:  83%|█████████████████▌   | 830/996 [1:00:18<16:41,  6.03s/it]"
     ]
    },
    {
     "name": "stdout",
     "output_type": "stream",
     "text": [
      "  -> Генерация для noise_level=0.3 (166 сэмплов)\n"
     ]
    },
    {
     "name": "stderr",
     "output_type": "stream",
     "text": [
      "\n",
      "Генерация данных: 100%|█████████████████████| 996/996 [1:42:54<00:00,  6.20s/it]"
     ]
    },
    {
     "name": "stdout",
     "output_type": "stream",
     "text": [
      "Генерация оставшихся 4 сэмплов без шума...\n"
     ]
    },
    {
     "name": "stderr",
     "output_type": "stream",
     "text": [
      "\n",
      "\n",
      "\u001b[Aерация оставшихся:   0%|                               | 0/4 [00:00<?, ?it/s]\n",
      "Генерация оставшихся: 100%|███████████████████████| 4/4 [00:06<00:00,  1.55s/it]"
     ]
    },
    {
     "name": "stdout",
     "output_type": "stream",
     "text": [
      "Генерация завершена, обработка результатов...\n"
     ]
    },
    {
     "name": "stderr",
     "output_type": "stream",
     "text": [
      "\n"
     ]
    },
    {
     "name": "stdout",
     "output_type": "stream",
     "text": [
      "Успешно сгенерировано: 1000/1000\n",
      "Отброшено плохих сэмплов: 0\n",
      "Данные сохранены в train_data_simulated_checked.npz\n",
      "Визуализация сохранена в metrics_distribution.png\n",
      "\n",
      "Лучшие примеры:\n",
      "Пример 1:\n",
      "  setpoint=51.51, IAE+reg=1.6537, RMSE=0.1350, overshoot=5.10%\n",
      "  Kp=0.613, Ki=0.384\n",
      "  Kp_os=1.018, Ki_os=0.794\n",
      "\n",
      "Пример 2:\n",
      "  setpoint=64.37, IAE+reg=2.0287, RMSE=0.1585, overshoot=4.04%\n",
      "  Kp=0.713, Ki=0.718\n",
      "  Kp_os=1.018, Ki_os=0.794\n",
      "\n",
      "Пример 3:\n",
      "  setpoint=54.72, IAE+reg=2.1210, RMSE=0.1488, overshoot=9.28%\n",
      "  Kp=0.515, Ki=0.612\n",
      "  Kp_os=1.018, Ki_os=0.794\n",
      "\n",
      "Пример 4:\n",
      "  setpoint=78.93, IAE+reg=2.1656, RMSE=0.1916, overshoot=0.81%\n",
      "  Kp=0.788, Ki=0.746\n",
      "  Kp_os=1.018, Ki_os=0.794\n",
      "\n",
      "Пример 5:\n",
      "  setpoint=60.28, IAE+reg=2.2100, RMSE=0.1758, overshoot=0.74%\n",
      "  Kp=0.231, Ki=0.980\n",
      "  Kp_os=1.018, Ki_os=0.794\n",
      "\n"
     ]
    }
   ],
   "source": [
    "import numpy as np\n",
    "from scipy.integrate import solve_ivp\n",
    "from tqdm import tqdm\n",
    "import matplotlib.pyplot as plt\n",
    "import json\n",
    "import os\n",
    "from joblib import Parallel, delayed\n",
    "from datetime import datetime\n",
    "\n",
    "# Конфигурация генерации\n",
    "manual_params = {\n",
    "    'beta': 19.6783, 'Tm': 0.2995, 'Te': 0.0256, 'Tfc': 0.1038,\n",
    "    'kfc': 1.6613, 'b': 0.7839, 'h0': 0.7304, 'x0': 1.0180, 'Tp': 0.7938,\n",
    "}\n",
    "\n",
    "config = {\n",
    "    'N': 1000,\n",
    "    'T': [0, 20, 200], # начало, остановка, количество точек\n",
    "    'param_ranges': {\n",
    "        'Kp': [0.0, 3.0],\n",
    "        'Ki': [0.0, 2.0],\n",
    "    },\n",
    "    'setpoint_range': [50, 600],\n",
    "    'noise_level': 0.02,\n",
    "    'n_jobs': -1,\n",
    "    'reg_lambda': 0.5,\n",
    "    'os_coeffs': {'Kp_ratio': 0.2, 'Ki_ratio': 0.15}  # коэффициенты обратной связи\n",
    "}\n",
    "\n",
    "# Логирование\n",
    "log_dir = \"generation_logs\"\n",
    "os.makedirs(log_dir, exist_ok=True)\n",
    "log_file = os.path.join(log_dir, f\"generation_{datetime.now().strftime('%Y%m%d_%H%M%S')}.log\")\n",
    "\n",
    "def log_message(message):\n",
    "    with open(log_file, \"a\") as f:\n",
    "        f.write(f\"{datetime.now().isoformat()} [INFO] {message}\\n\")\n",
    "    print(message)\n",
    "\n",
    "# Сохранение конфигурации для воспроизводимости\n",
    "with open(os.path.join(log_dir, \"config.json\"), \"w\") as f:\n",
    "    json.dump(config, f, indent=2)\n",
    "\n",
    "# Основные параметры симуляции\n",
    "T = np.linspace(config['T'][0], config['T'][1], config['T'][2])\n",
    "dt = T[1] - T[0]\n",
    "n_states = 5\n",
    "X0 = np.zeros(n_states)\n",
    "\n",
    "# Модель объекта\n",
    "def plant_update(t, x, u, params):\n",
    "    beta, Tm, Te, Tfc, kfc, b, h0, x0, Tp = params\n",
    "    x1, x2, x3, x4, x5 = x\n",
    "    dx1_dt = (1.0 / (beta * Tm)) * (x2 - x1)\n",
    "    dx2_dt = (beta / Te) * x3 - (beta / Te) * x1 - (1.0 / Te) * x2\n",
    "    dx3_dt = (kfc / Tfc) * x4 - (1.0 / Tfc) * x3\n",
    "    k_leak = 5.0\n",
    "    dx5_dt = ((b / Tp) + ((2.0 * h0 * x0) / Tp)) * x1 - (1.0 / Tp) * x5 - k_leak * x5\n",
    "    dx4_dt = u[0]\n",
    "    return [dx1_dt, dx2_dt, dx3_dt, dx4_dt, dx5_dt]\n",
    "\n",
    "# ПИ-регулятор\n",
    "class PIControllerWithOS:\n",
    "    def __init__(self, Kp, Ki, dt, Kp_os=0.0, Ki_os=0.0, u_min=0, u_max=3000, integral_min=-20, integral_max=20):\n",
    "        self.Kp = Kp\n",
    "        self.Ki = Ki\n",
    "        self.Kp_os = Kp_os\n",
    "        self.Ki_os = Ki_os\n",
    "        self.dt = dt\n",
    "        self.integral = 0.0\n",
    "        self.u_min = u_min\n",
    "        self.u_max = u_max\n",
    "        self.integral_min = integral_min\n",
    "        self.integral_max = integral_max\n",
    "        self.x1_prev = None\n",
    "        self.t_prev = None\n",
    "\n",
    "    def reset(self):\n",
    "        self.integral = 0.0\n",
    "        self.x1_prev = None\n",
    "        self.t_prev = None\n",
    "\n",
    "    def __call__(self, setpoint, measurement, x1, t, noise_level=0.0):\n",
    "        if noise_level > 1e-6:\n",
    "            noise = noise_level * setpoint * np.random.randn()\n",
    "            measurement += noise\n",
    "        error = setpoint - measurement\n",
    "        if self.t_prev is None:\n",
    "            dt_local = 0.0\n",
    "        else:\n",
    "            dt_local = t - self.t_prev\n",
    "        self.t_prev = t\n",
    "        self.integral += error * dt_local\n",
    "        self.integral = np.clip(self.integral, self.integral_min, self.integral_max)\n",
    "        dx1_dt_num = (x1 - self.x1_prev) / dt_local if (self.x1_prev is not None and dt_local > 0) else 0.0\n",
    "        self.x1_prev = x1\n",
    "        u = (self.Kp * error + self.Ki * self.integral - self.Kp_os * dx1_dt_num - self.Ki_os * x1)\n",
    "        return np.clip(u, self.u_min, self.u_max)\n",
    "\n",
    "# Генерация одного сэмпла\n",
    "def generate_sample(seed, noise_level):\n",
    "    np.random.seed(seed)\n",
    "    try:\n",
    "        # Параметры объекта\n",
    "        params_obj = [manual_params[k] for k in ['beta','Tm','Te','Tfc','kfc','b','h0','x0','Tp']]\n",
    "\n",
    "        # Случайные параметры регулятора\n",
    "        Kp = np.random.uniform(*config['param_ranges']['Kp'])\n",
    "        Ki = np.random.uniform(*config['param_ranges']['Ki'])\n",
    "        \n",
    "        # Расчет параметров обратной связи\n",
    "        Kp_os = Kp * config['os_coeffs']['Kp_ratio']\n",
    "        Ki_os = Ki * config['os_coeffs']['Ki_ratio']\n",
    "\n",
    "        setpoint = np.random.uniform(*config['setpoint_range'])\n",
    "\n",
    "        config['noise_enabled'] = noise_level > 1e-6\n",
    "        config['noise_level'] = noise_level\n",
    "        \n",
    "        pi = PIControllerWithOS(Kp, Ki, dt, Kp_os, Ki_os)\n",
    "        pi.reset()\n",
    "\n",
    "        def closed_loop_rhs(t, x):\n",
    "            measurement = x[4]\n",
    "            x1 = x[0]\n",
    "            u = pi(setpoint, measurement, x1, t, noise_level=noise_level)\n",
    "            dx = plant_update(t, x, [u], params_obj)\n",
    "            if np.any(np.isnan(x)) or np.any(np.abs(x) > 1e6):\n",
    "                return np.zeros_like(x)\n",
    "            return dx\n",
    "\n",
    "        sol = solve_ivp(closed_loop_rhs, [T[0], T[-1]], X0, t_eval=T, method='RK45', rtol=1e-6, atol=1e-8)\n",
    "        if not sol.success:\n",
    "            return None\n",
    "\n",
    "        p_hist = sol.y[4]\n",
    "        pressure_hist = p_hist * 0.00980665\n",
    "        pressure_setpoint = setpoint * 0.00980665\n",
    "        IAE_pressure = np.sum(np.abs(pressure_hist - pressure_setpoint)) * dt\n",
    "        RMSE_pressure = np.sqrt(np.mean((pressure_hist - pressure_setpoint) ** 2))\n",
    "        overshoot = (np.max(pressure_hist) - pressure_setpoint) / pressure_setpoint * 100\n",
    "\n",
    "        # Регуляризация параметров\n",
    "        reg_lambda = config.get('reg_lambda', 0.5)\n",
    "        reg_penalty = reg_lambda * (Kp**2 + Ki**2)\n",
    "        IAE_pressure_reg = IAE_pressure + reg_penalty\n",
    "\n",
    "        # Критерий качества (1 - хороший, 0 - плохой)\n",
    "        is_good = int((RMSE_pressure < 0.03 * setpoint) and (abs(overshoot) <= 20))\n",
    "\n",
    "        return (\n",
    "            [setpoint, config['noise_level'], IAE_pressure_reg, RMSE_pressure, overshoot, is_good],\n",
    "            [Kp, Ki, Kp_os, Ki_os] + params_obj\n",
    "        )\n",
    "\n",
    "    except Exception as e:\n",
    "        log_message(f\"Ошибка генерации сэмпла: {str(e)}\")\n",
    "        return None\n",
    "\n",
    "# Параллельная генерация данных\n",
    "if __name__ == \"__main__\":\n",
    "    log_message(\"Запуск генерации данных...\")\n",
    "\n",
    "    noise_levels = [0.0, 0.01, 0.05, 0.1, 0.2, 0.3]\n",
    "    samples_per_noise = config['N'] // len(noise_levels)\n",
    "    results = []\n",
    "    total_samples = samples_per_noise * len(noise_levels)\n",
    "\n",
    "    print(f\"Будет сгенерировано {total_samples} сэмплов (по {samples_per_noise} на каждый уровень шума).\", flush=True)\n",
    "    print(f\"Уровни шума: {noise_levels}\", flush=True)\n",
    "    print(\"Генерация данных...\", flush=True)\n",
    "\n",
    "    with tqdm(total=total_samples, desc=\"Генерация данных\", ncols=80) as pbar:\n",
    "        for i, nl in enumerate(noise_levels):\n",
    "            seeds = range(i * samples_per_noise, (i + 1) * samples_per_noise)\n",
    "            print(f\"  -> Генерация для noise_level={nl} ({len(seeds)} сэмплов)\", flush=True)\n",
    "            batch_results = Parallel(n_jobs=config['n_jobs'])(\n",
    "                delayed(generate_sample)(seed, nl) for seed in seeds\n",
    "            )\n",
    "            results.extend(batch_results)\n",
    "            pbar.update(len(batch_results))\n",
    "\n",
    "    # Генерация оставшихся сэмплов, если config['N'] не делится нацело\n",
    "    remaining = config['N'] - len(results)\n",
    "    if remaining > 0:\n",
    "        print(f\"Генерация оставшихся {remaining} сэмплов без шума...\", flush=True)\n",
    "        with tqdm(total=remaining, desc=\"Генерация оставшихся\", ncols=80) as pbar:\n",
    "            seeds = range(config['N'], config['N'] + remaining)\n",
    "            batch_results = Parallel(n_jobs=config['n_jobs'])(\n",
    "                delayed(generate_sample)(seed, 0.0) for seed in seeds\n",
    "            )\n",
    "            results.extend(batch_results)\n",
    "            pbar.update(len(batch_results))\n",
    "\n",
    "    print(\"Генерация завершена, обработка результатов...\", flush=True)\n",
    "\n",
    "    # Обработка результатов\n",
    "    X_train, y_train = [], []\n",
    "    bad_samples = 0\n",
    "\n",
    "    for result in results:\n",
    "        if result is None:\n",
    "            bad_samples += 1\n",
    "        else:\n",
    "            X_train.append(result[0])\n",
    "            y_train.append(result[1])\n",
    "\n",
    "    log_message(f\"Успешно сгенерировано: {len(X_train)}/{config['N']}\")\n",
    "    log_message(f\"Отброшено плохих сэмплов: {bad_samples}\")\n",
    "\n",
    "    # Сохранение данных\n",
    "    X_train = np.array(X_train, dtype=np.float32)\n",
    "    y_train = np.array(y_train, dtype=np.float32)\n",
    "    np.savez('train_data_simulated_checked.npz', X_train=X_train, y_train=y_train)\n",
    "    log_message(\"Данные сохранены в train_data_simulated_checked.npz\")\n",
    "\n",
    "    # Визуализация распределения метрик\n",
    "    plt.figure(figsize=(10, 6))\n",
    "    plt.hist([x[2] for x in X_train], bins=50, alpha=0.5, label='IAE+reg')\n",
    "    plt.hist([x[3] for x in X_train], bins=50, alpha=0.5, label='RMSE')\n",
    "    plt.hist([x[4] for x in X_train], bins=50, alpha=0.5, label='Overshoot')\n",
    "    plt.xlabel('Значение метрики')\n",
    "    plt.ylabel('Частота')\n",
    "    plt.title('Распределение метрик качества')\n",
    "    plt.legend()\n",
    "    plt.savefig(os.path.join(log_dir, 'metrics_distribution.png'))\n",
    "    plt.close()\n",
    "    log_message(\"Визуализация сохранена в metrics_distribution.png\")\n",
    "\n",
    "    # Вывод лучших примеров\n",
    "    best_examples = []\n",
    "    for x, y in zip(X_train, y_train):\n",
    "        setpoint = x[0]\n",
    "        RMSE = x[3]\n",
    "        overshoot = x[4]\n",
    "        if RMSE < 0.03 * setpoint and abs(overshoot) <= 20:\n",
    "            best_examples.append((x, y))\n",
    "    best_examples = sorted(best_examples, key=lambda tup: tup[0][2])\n",
    "    print('\\nЛучшие примеры:')\n",
    "    for i, (x, y) in enumerate(best_examples[:5]):\n",
    "        print(f\"Пример {i+1}:\")\n",
    "        print(f\"  setpoint={x[0]:.2f}, IAE+reg={x[2]:.4f}, RMSE={x[3]:.4f}, overshoot={x[4]:.2f}%\")\n",
    "        print(f\"  Kp={y[0]:.3f}, Ki={y[1]:.3f}\")\n",
    "        print(f\"  Kp_os={y[-2]:.3f}, Ki_os={y[-1]:.3f}\\n\")\n"
   ]
  },
  {
   "cell_type": "code",
   "execution_count": null,
   "id": "efec32b3-b732-40b5-91d6-55ba5214b07a",
   "metadata": {},
   "outputs": [],
   "source": []
  }
 ],
 "metadata": {
  "kernelspec": {
   "display_name": "Python 3 (ipykernel)",
   "language": "python",
   "name": "python3"
  },
  "language_info": {
   "codemirror_mode": {
    "name": "ipython",
    "version": 3
   },
   "file_extension": ".py",
   "mimetype": "text/x-python",
   "name": "python",
   "nbconvert_exporter": "python",
   "pygments_lexer": "ipython3",
   "version": "3.10.16"
  }
 },
 "nbformat": 4,
 "nbformat_minor": 5
}
